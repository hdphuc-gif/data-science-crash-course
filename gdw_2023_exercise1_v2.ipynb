{
 "cells": [
  {
   "cell_type": "markdown",
   "metadata": {},
   "source": [
    "# Foundations of Data Science (GDW) 2023\n",
    "### Phuc Ha Duy\n",
    "\n",
    "\n",
    "# Exercise I: Data Retrieval\n",
    "\n",
    "In the lecture, a couple of tools and different origins of data where presented. In this exercise you will\n",
    "learn how to retrieve data\n",
    "- from an Application Progarmming Interface,\n",
    "- from a website using Scraping,\n",
    "- from a database using SQL.\n",
    "\n"
   ]
  },
  {
   "cell_type": "markdown",
   "metadata": {},
   "source": [
    "## Part 1: API\n",
    "\n",
    "The easiest method to retrieve external data is to connect with an API. \n",
    "These are services you query for some data and in response the data is provided. This communication is via network\n",
    "and needs to follow some protocols. Most prominent protocols for APIs are REST and SOAP ser-\n",
    "vices via Hypertext Transfer Protocol (HTTP, the same protocol your browser uses to retrieve web-\n",
    "sites).\n",
    "\n",
    "A simple example for such a REST API is provided by the library. Following request retrieves information on the availability of a certain journal:\n",
    "\n",
    "https://api.ub.tu-dortmund.de/daia/openurl?/&issn=00431648&format=html\n",
    "\n",
    "In REST APIs you may easily change the parameters, to get the information you want, or (if provided)\n",
    "to change the response format. Please compare the responses to the following requests with the upper:\n",
    "\n",
    "https://api.ub.tu-dortmund.de/daia/openurl?/&issn=00431648&format=json\n",
    "\n",
    "https://api.ub.tu-dortmund.de/daia/openurl?/&issn=00431648&format=xml\n",
    "\n",
    "In Python you could send API requests with the package requests."
   ]
  },
  {
   "cell_type": "code",
   "execution_count": 1,
   "metadata": {
    "jupyter": {
     "outputs_hidden": true
    }
   },
   "outputs": [
    {
     "ename": "ModuleNotFoundError",
     "evalue": "No module named 'requests'",
     "output_type": "error",
     "traceback": [
      "\u001b[1;31m---------------------------------------------------------------------------\u001b[0m",
      "\u001b[1;31mModuleNotFoundError\u001b[0m                       Traceback (most recent call last)",
      "\u001b[1;32mc:\\Users\\duyph\\Downloads\\gdw_2023_exercise1_v2.ipynb Cell 3\u001b[0m line \u001b[0;36m1\n\u001b[1;32m----> <a href='vscode-notebook-cell:/c%3A/Users/duyph/Downloads/gdw_2023_exercise1_v2.ipynb#W2sZmlsZQ%3D%3D?line=0'>1</a>\u001b[0m \u001b[39mimport\u001b[39;00m \u001b[39mrequests\u001b[39;00m\n\u001b[0;32m      <a href='vscode-notebook-cell:/c%3A/Users/duyph/Downloads/gdw_2023_exercise1_v2.ipynb#W2sZmlsZQ%3D%3D?line=1'>2</a>\u001b[0m URL1 \u001b[39m=\u001b[39m \u001b[39m'\u001b[39m\u001b[39mhttps://api.ub.tu-dortmund.de/daia/openurl?/&issn=00431648&format=html\u001b[39m\u001b[39m'\u001b[39m\n\u001b[0;32m      <a href='vscode-notebook-cell:/c%3A/Users/duyph/Downloads/gdw_2023_exercise1_v2.ipynb#W2sZmlsZQ%3D%3D?line=2'>3</a>\u001b[0m \u001b[39m#URL2 = 'https://api.ub.tu-dortmund.de/daia/openurl?/&issn=00431648&format=json'\u001b[39;00m\n\u001b[0;32m      <a href='vscode-notebook-cell:/c%3A/Users/duyph/Downloads/gdw_2023_exercise1_v2.ipynb#W2sZmlsZQ%3D%3D?line=3'>4</a>\u001b[0m \u001b[39m#URL3 = 'https://api.ub.tu-dortmund.de/daia/openurl?/&issn=00431648&format=xml'\u001b[39;00m\n",
      "\u001b[1;31mModuleNotFoundError\u001b[0m: No module named 'requests'"
     ]
    }
   ],
   "source": [
    "import requests\n",
    "URL1 = 'https://api.ub.tu-dortmund.de/daia/openurl?/&issn=00431648&format=html'\n",
    "#URL2 = 'https://api.ub.tu-dortmund.de/daia/openurl?/&issn=00431648&format=json'\n",
    "#URL3 = 'https://api.ub.tu-dortmund.de/daia/openurl?/&issn=00431648&format=xml'\n",
    "page = requests.get(URL1)\n",
    "print(page.content)\n"
   ]
  },
  {
   "cell_type": "markdown",
   "metadata": {},
   "source": [
    "Besides officially provided APIs, many interfaces among services in the internet rely on APIs to exchange their data. \n",
    "These interfaces could be exploited by sending API requests."
   ]
  },
  {
   "cell_type": "markdown",
   "metadata": {},
   "source": [
    "### Task 1.1\n",
    "Given these basics, in the following you will focus autonomously on another example.\n",
    "\n",
    "- Browse to the following website of the open data portal https://geoweb1.digistadtdo.de/doris_gdi/index.html\n",
    "- Open the developer mode of your browser (e.g. in Chrome it's Ctrl + Shift + i ) and observe in the network tab which urls are fetched when moving the map around.\n",
    "\n",
    "Report your findings below:"
   ]
  },
  {
   "cell_type": "markdown",
   "metadata": {},
   "source": [
    "..."
   ]
  },
  {
   "cell_type": "markdown",
   "metadata": {},
   "source": [
    "### Task 1.2\n",
    "\n",
    "Here is a simple script that fetches the logo of the LS8 and plots it."
   ]
  },
  {
   "cell_type": "code",
   "execution_count": null,
   "metadata": {},
   "outputs": [
    {
     "data": {
      "image/png": "[encoded data removed]",
      "text/plain": [
       "<Figure size 432x288 with 1 Axes>"
      ]
     },
     "metadata": {
      "needs_background": "light"
     },
     "output_type": "display_data"
    }
   ],
   "source": [
    "import requests \n",
    "from io import BytesIO \n",
    "import matplotlib.pyplot as plt\n",
    "import matplotlib.image as mpimg\n",
    "\n",
    "url=\"https://www-ai.cs.tu-dortmund.de/header-bg-topLeft.png\"\n",
    "response = requests.get(url)\n",
    "img = mpimg.imread(BytesIO(response.content))\n",
    "imgplot = plt.imshow(img)\n",
    "plt.show()\n"
   ]
  },
  {
   "cell_type": "markdown",
   "metadata": {},
   "source": [
    "Write a simple program that fetches and plots the map view of the TU Dortmund from the WMS server of the OpenData Portal of the city of Dortmund (You found its URL and parameters in previous step)."
   ]
  },
  {
   "cell_type": "code",
   "execution_count": null,
   "metadata": {},
   "outputs": [],
   "source": [
    "# insert code here"
   ]
  },
  {
   "cell_type": "markdown",
   "metadata": {},
   "source": [
    "## Part 2: Web Scraping"
   ]
  },
  {
   "cell_type": "markdown",
   "metadata": {},
   "source": [
    "Lots of data is available on websites. Often, it is necessary to collect it from these sites. \n",
    "\n",
    "This process is called *scraping*. One essential python package, requests, was already used in **Task 1.2**\n",
    "\n",
    "Another essential package for website scraping is `BeautifulSoup`. This provides you the contents of\n",
    "some HTML tag. Suppose you want to retrieve a list of modules from the LSF, you start with this\n",
    "simple python code:"
   ]
  },
  {
   "cell_type": "code",
   "execution_count": null,
   "metadata": {},
   "outputs": [],
   "source": [
    "import requests\n",
    "\n",
    "url = \"https://www.lsf.tu-dortmund.de/qisserver/rds?state=wtree&search=1&trex=step&root120202=110562|112466|111468|109172&P.vx=kurz\"\n",
    "page = requests.get(url)"
   ]
  },
  {
   "cell_type": "markdown",
   "metadata": {},
   "source": [
    "But this response has no utility and needs to be parsed. \n",
    "\n",
    "This is where BeautifulSoup comes in. First, we start the HTML parser (Listing 4, line 5) which reads the document and provides a simple way to access different HTML-Tags in the following. The methods, we use are `find` and `find_all`. \n",
    "\n",
    "Both select a part of the website based on its tags (e.g., ‘td‘ in line 9, or, ‘a‘ in lines 9 and 10) and properties (e.g. the filter `class_=klein`, in Line 11) and provide its contents. \n",
    "\n",
    "Relevant filters are obtained from the source or inspect view of the browser when opening LSF."
   ]
  },
  {
   "cell_type": "code",
   "execution_count": null,
   "metadata": {},
   "outputs": [
    {
     "name": "stdout",
     "output_type": "stream",
     "text": [
      "040301\n",
      "Digitale Bildverarbeitung\n",
      "Weichert\n",
      "\n",
      "040303\n",
      "Sicherheit: Fragen und Lösungsansätze\n",
      "Rossow\n",
      "\n",
      "040304\n",
      "Übung zu Sicherheit: Fragen und Lösungsansätze\n",
      "\n",
      "040309\n",
      "Einführung in Computational Intelligence\n",
      "Rudolph\n",
      "\n",
      "040310\n",
      "Übung zu Einführung in Computational Intelligence\n",
      "geb. Greiff Bommert\n",
      "\n",
      "040313\n",
      "Webtechnologien 1\n",
      "Hermann\n",
      "\n",
      "040314\n",
      "Übung zu Webtechnologien 1\n",
      "\n",
      "040337\n",
      "Grundlagen der Datenwissenschaft (GDW)\n",
      "Liebig\n",
      "\n",
      "040338\n",
      "Übung zu Grundlagen der Datenwissenschaft (GDW)\n",
      "Liebig\n",
      "\n",
      "040339\n",
      "Konzepte und Methoden der Theoretischen Informatik\n",
      "Schwentick\n",
      "\n",
      "040340\n",
      "Übung zu Konzepte und Methoden der Theoretischen Informatik\n",
      "Schwentick\n",
      "\n",
      "040341\n",
      "Musikdatenanalyse\n",
      "Weihs\n",
      "\n",
      "040342\n",
      "Übung zu Musikdatenanalyse\n",
      "Rudolph\n",
      "\n",
      "080040\n",
      "Steuerungs- und Regelungstechnik\n",
      "Schauten\n",
      "\n",
      "080049\n",
      "Steuerungs- und Regelungstechnik\n",
      "Schauten\n",
      "\n",
      "080049\n",
      "Steuerungs- und Regelungstechnik\n",
      "Schauten\n",
      "\n"
     ]
    }
   ],
   "source": [
    "import requests\n",
    "import re\n",
    "from bs4 import BeautifulSoup\n",
    "url = \"https://www.lsf.tu-dortmund.de/qisserver/rds?state=wtree&search=1&trex=step&root120202=110562|112466|111468|109172&P.vx=kurz\"\n",
    "page = requests.get(url)\n",
    "soup = BeautifulSoup(page.content, 'html.parser')\n",
    "results = soup.find('td', class_='maske')\n",
    "courses = results.find_all('tr')\n",
    "for course in courses:\n",
    "    course_nr= course.find('td')\n",
    "    course_name= course.find('a',class_='regular')\n",
    "    course_who= course.find('a',class_='klein')\n",
    "    if None in (course_nr, course_name):\n",
    "        continue\n",
    "    print(course_nr.text.strip())\n",
    "    print(course_name.text.strip())\n",
    "    if course_who is not None:\n",
    "        print(re.sub('\\s+',' ',course_who.text.strip()))\n",
    "    print()"
   ]
  },
  {
   "cell_type": "markdown",
   "metadata": {},
   "source": [
    "For scraping of large websites, you might want to condition new requests on the data you read in\n",
    "previous rounds. For exploitation of this process please consult the usage conditions of the websites\n",
    "you scrape.\n",
    "\n",
    "### Task 2.1\n",
    "**Option a)** Write a program that accesses the Job Portal of TU Dortmund https://www.stellenwerk-dortmund.de/ and prints a list of Data Science jobs. Note: You would have to adapt for the JSON end point.\n",
    "\n",
    "**Option b)** Write a program that accesses the Fake Job Portal https://realpython.github.io/fake-jobs/ and prints a list of Developer jobs."
   ]
  },
  {
   "cell_type": "code",
   "execution_count": null,
   "metadata": {},
   "outputs": [],
   "source": [
    "# insert code here"
   ]
  },
  {
   "cell_type": "markdown",
   "metadata": {},
   "source": [
    "## Part 3: Databases\n",
    "\n",
    "The common procedure to do knowledge discovery (compare the KDD process in the lecture) starts by\n",
    "reading the data from a database. \n",
    "\n",
    "Before we may read data from a database, we need to store it there, so here is a brief example. \n",
    "\n",
    "First, we need the following SQL commands to create a table `CREATE TABLE`.\n",
    "\n",
    "Afterwards, `INSERT INTO` is used to insert one row into the database. The changes are stored persistently by executing the `COMMIT` statement."
   ]
  },
  {
   "cell_type": "code",
   "execution_count": null,
   "metadata": {},
   "outputs": [],
   "source": [
    "import sqlite3\n",
    "conn = sqlite3.connect('courses-test.db')\n",
    "c = conn.cursor()\n",
    "\n",
    "# Create table\n",
    "c.execute(\"CREATE TABLE courses(number text, name text, lecturer text)\")\n",
    "\n",
    "# Insert a row of data\n",
    "c.execute(\"INSERT INTO courses VALUES ('123459','Course','Lecturer')\")\n",
    "\n",
    "# Save (commit) the changes\n",
    "conn.commit()\n",
    "\n",
    "# We can also close the connection if we are done with it.\n",
    "# Just be sure any changes have been committed or they will be lost.\n",
    "conn.close()"
   ]
  },
  {
   "cell_type": "markdown",
   "metadata": {},
   "source": [
    "Afterwards, the data can be retrieved by the `SELECT` statement."
   ]
  },
  {
   "cell_type": "code",
   "execution_count": null,
   "metadata": {},
   "outputs": [
    {
     "name": "stdout",
     "output_type": "stream",
     "text": [
      "('123459', 'Course', 'Lecturer')\n"
     ]
    }
   ],
   "source": [
    "import sqlite3\n",
    "conn = sqlite3.connect('courses-test.db')\n",
    "c = conn.cursor()\n",
    "for row in c.execute(\"SELECT * FROM courses\"):\n",
    "    print(row)\n",
    "conn.close()"
   ]
  },
  {
   "cell_type": "markdown",
   "metadata": {},
   "source": [
    "Combined with previous listings, we may store the courses in a Database."
   ]
  },
  {
   "cell_type": "code",
   "execution_count": null,
   "metadata": {},
   "outputs": [],
   "source": [
    "import sqlite3\n",
    "import requests\n",
    "import re\n",
    "conn = sqlite3.connect('courses.db')\n",
    "c = conn.cursor()\n",
    "c.execute(\"CREATE TABLE courses(number text, name text, lecturer text)\")\n",
    "\n",
    "url = \"https://www.lsf.tu-dortmund.de/qisserver/rds?state=wtree&search=1&trex=step&root120202=110562|112466|111468|109172&P.vx=kurz\"\n",
    "page = requests.get(url)\n",
    "soup = BeautifulSoup(page.content, 'html.parser')\n",
    "results = soup.find('td', class_='maske')\n",
    "courses = results.find_all('tr')\n",
    "for course in courses:\n",
    "    course_nr= course.find('td')\n",
    "    course_name= course.find('a',class_='regular')\n",
    "    course_who= course.find('a',class_='klein')\n",
    "    if None in (course_nr, course_name):\n",
    "        continue\n",
    "    nr=course_nr.text.strip()\n",
    "    name=course_name.text.strip()\n",
    "    who=\"\"\n",
    "    if course_who is not None:\n",
    "        who=re.sub('\\s+',' ',course_who.text.strip())\n",
    "    c.execute(\"INSERT INTO courses VALUES ('\"+nr+\"','\"+name+\"','\"+who+\"')\")\n",
    "    conn.commit()\n",
    "\n",
    "# We can also close the connection if we are done with it.\n",
    "# Just be sure any changes have been committed or they will be lost.\n",
    "conn.close()"
   ]
  },
  {
   "cell_type": "markdown",
   "metadata": {},
   "source": [
    "We now may open the courses.db file with a database explorer of our choice, for example [SQLiteBrowser](https://sqlitebrowser.org/)."
   ]
  },
  {
   "cell_type": "markdown",
   "metadata": {},
   "source": [
    "A simple script to retrieve the data is:"
   ]
  },
  {
   "cell_type": "code",
   "execution_count": null,
   "metadata": {},
   "outputs": [
    {
     "name": "stdout",
     "output_type": "stream",
     "text": [
      "('040301', 'Digitale Bildverarbeitung', 'Weichert')\n",
      "('040303', 'Sicherheit: Fragen und Lösungsansätze', 'Rossow')\n",
      "('040304', 'Übung zu Sicherheit: Fragen und Lösungsansätze', '')\n",
      "('040309', 'Einführung in Computational Intelligence', 'Rudolph')\n",
      "('040310', 'Übung zu Einführung in Computational Intelligence', 'geb. Greiff Bommert')\n",
      "('040313', 'Webtechnologien 1', 'Hermann')\n",
      "('040314', 'Übung zu Webtechnologien 1', '')\n",
      "('040337', 'Grundlagen der Datenwissenschaft (GDW)', 'Liebig')\n",
      "('040338', 'Übung zu Grundlagen der Datenwissenschaft (GDW)', 'Liebig')\n",
      "('040339', 'Konzepte und Methoden der Theoretischen Informatik', 'Schwentick')\n",
      "('040340', 'Übung zu Konzepte und Methoden der Theoretischen Informatik', 'Schwentick')\n",
      "('040341', 'Musikdatenanalyse', 'Weihs')\n",
      "('040342', 'Übung zu Musikdatenanalyse', 'Rudolph')\n",
      "('080040', 'Steuerungs- und Regelungstechnik', 'Schauten')\n",
      "('080049', 'Steuerungs- und Regelungstechnik', 'Schauten')\n",
      "('080049', 'Steuerungs- und Regelungstechnik', 'Schauten')\n"
     ]
    }
   ],
   "source": [
    "import sqlite3\n",
    "conn = sqlite3.connect('courses.db')\n",
    "c = conn.cursor()\n",
    "for row in c.execute(\"SELECT * FROM courses\"):\n",
    "    print(row)\n",
    "conn.close()"
   ]
  },
  {
   "cell_type": "markdown",
   "metadata": {
    "collapsed": true,
    "jupyter": {
     "outputs_hidden": true
    }
   },
   "source": [
    "### Task 3.1\n",
    "Similar to the example above, store your results from Task 2 in a database."
   ]
  },
  {
   "cell_type": "code",
   "execution_count": null,
   "metadata": {},
   "outputs": [],
   "source": [
    "# insert code here"
   ]
  }
 ],
 "metadata": {
  "kernelspec": {
   "display_name": "Python 3 (ipykernel)",
   "language": "python",
   "name": "python3"
  },
  "language_info": {
   "codemirror_mode": {
    "name": "ipython",
    "version": 3
   },
   "file_extension": ".py",
   "mimetype": "text/x-python",
   "name": "python",
   "nbconvert_exporter": "python",
   "pygments_lexer": "ipython3",
   "version": "3.11.5"
  }
 },
 "nbformat": 4,
 "nbformat_minor": 4
}
